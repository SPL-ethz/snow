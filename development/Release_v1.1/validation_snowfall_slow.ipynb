{
 "cells": [
  {
   "cell_type": "code",
   "execution_count": 1,
   "metadata": {},
   "outputs": [],
   "source": [
    "%load_ext autoreload\n",
    "%autoreload 2\n",
    "\n",
    "from ethz_snow.snowfall import Snowfall\n",
    "from ethz_snow.operatingConditions import OperatingConditions\n",
    "import numpy as np"
   ]
  },
  {
   "cell_type": "code",
   "execution_count": 2,
   "metadata": {},
   "outputs": [],
   "source": [
    "#setting the operating conditions for the validation test \n",
    "\n",
    "\n",
    "d = {\"int\": 10, \"ext\": 10, \"s0\": 0, \"s_sigma_rel\": 0.} \n",
    "c = {\"rate\": 1e-16, \"start\": -40, \"end\": -40} # rate equals zero yields divide by zero error\n",
    "initial = {\"temp\": 20}\n",
    "\n",
    "# note that t_tot limits the process duration, i.e. if duration of hold is longer, it will be cut to t_tot\n",
    "op = OperatingConditions(t_tot=1e5,cooling= c, holding =dict(duration=1e5,temp=-40) )\n",
    "\n",
    "# box size (12,20,3) while pallet size (40,36,18)\n",
    "S = Snowfall(pool_size=8,k=d,Nrep=128,N_vials=(12,20,3),opcond=op, dt=5, initialStates = initial, initIce = \"direct\")\n"
   ]
  },
  {
   "cell_type": "code",
   "execution_count": 3,
   "metadata": {},
   "outputs": [],
   "source": [
    "S.run()\n"
   ]
  },
  {
   "cell_type": "code",
   "execution_count": 4,
   "metadata": {},
   "outputs": [],
   "source": [
    "nucTemps = S.nucleationTemperatures()\n",
    "np.savetxt('direct_Tempnuc.csv',nucTemps, delimiter=',')"
   ]
  },
  {
   "cell_type": "code",
   "execution_count": 5,
   "metadata": {},
   "outputs": [],
   "source": [
    "soltimes = S.solidificationTimes()\n",
    "np.savetxt('direct_tsol.csv',soltimes, delimiter=',')"
   ]
  },
  {
   "cell_type": "code",
   "execution_count": 6,
   "metadata": {},
   "outputs": [],
   "source": [
    "nuctimes = S.nucleationTimes()\n",
    "np.savetxt('direct_timenuc.csv',nuctimes, delimiter=',')"
   ]
  },
  {
   "cell_type": "code",
   "execution_count": 4,
   "metadata": {},
   "outputs": [],
   "source": [
    "nucTemps = S.nucleationTemperatures()"
   ]
  },
  {
   "cell_type": "code",
   "execution_count": 5,
   "metadata": {},
   "outputs": [],
   "source": [
    "soltimes = S.solidificationTimes()"
   ]
  }
 ],
 "metadata": {
  "interpreter": {
   "hash": "0280e031d6a0926aa461b23be1c34fd57d6443b128ac0d3387f8e8ae851d73eb"
  },
  "kernelspec": {
   "display_name": "Python 3.9.5 64-bit ('snow': conda)",
   "name": "python3"
  },
  "language_info": {
   "codemirror_mode": {
    "name": "ipython",
    "version": 3
   },
   "file_extension": ".py",
   "mimetype": "text/x-python",
   "name": "python",
   "nbconvert_exporter": "python",
   "pygments_lexer": "ipython3",
   "version": "3.9.5"
  },
  "orig_nbformat": 2
 },
 "nbformat": 4,
 "nbformat_minor": 2
}
